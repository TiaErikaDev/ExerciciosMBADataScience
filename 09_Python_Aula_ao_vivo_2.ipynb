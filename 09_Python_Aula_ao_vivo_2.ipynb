{
  "nbformat": 4,
  "nbformat_minor": 0,
  "metadata": {
    "colab": {
      "name": "09. Python - Aula ao vivo 2",
      "provenance": [],
      "collapsed_sections": [],
      "authorship_tag": "ABX9TyMEuMBke63Xk3mkfREkWTXF",
      "include_colab_link": true
    },
    "kernelspec": {
      "name": "python3",
      "display_name": "Python 3"
    },
    "language_info": {
      "name": "python"
    }
  },
  "cells": [
    {
      "cell_type": "markdown",
      "metadata": {
        "id": "view-in-github",
        "colab_type": "text"
      },
      "source": [
        "<a href=\"https://colab.research.google.com/github/TiaErikaDev/ExerciciosPython/blob/main/09_Python_Aula_ao_vivo_2.ipynb\" target=\"_parent\"><img src=\"https://colab.research.google.com/assets/colab-badge.svg\" alt=\"Open In Colab\"/></a>"
      ]
    },
    {
      "cell_type": "code",
      "source": [
        "import random\n",
        "import numpy as np\n"
      ],
      "metadata": {
        "id": "JvBsox9bSLMK"
      },
      "execution_count": null,
      "outputs": []
    },
    {
      "cell_type": "code",
      "source": [
        "n = 150_000_000\n",
        "\n",
        "candidatos = ['A', 'B', 'C', 'D']\n",
        "proporcao = [0.40, 0.30, 0.20, 0.10]\n",
        "\n",
        "populacaoA = [candidatos[0]]*int(n*proporcao[0])\n",
        "populacaoB = [candidatos[1]]*int(n*proporcao[1])\n",
        "populacaoC = [candidatos[2]]*int(n*proporcao[2])\n",
        "populacaoD = [candidatos[3]]*int(n*proporcao[3])\n",
        "populacao = populacaoA + populacaoB + populacaoC + populacaoD"
      ],
      "metadata": {
        "id": "8cnxnxUSQ3ox"
      },
      "execution_count": null,
      "outputs": []
    },
    {
      "cell_type": "code",
      "execution_count": null,
      "metadata": {
        "colab": {
          "base_uri": "https://localhost:8080/"
        },
        "id": "FhuSQ6pCM-17",
        "outputId": "8d87559b-4135-43ae-e96a-5160e8c3ed36"
      },
      "outputs": [
        {
          "output_type": "stream",
          "name": "stdout",
          "text": [
            "[False  True  True  True]\n",
            "Valores reais: [0.4, 0.3, 0.2, 0.1]\n",
            "Estimativas  : [0.4231570179092045, 0.2936276551436901, 0.19033735943356936, 0.09287796751353602]\n",
            "Erros: [ 0.02315702 -0.00637234 -0.00966264 -0.00712203]\n",
            "Margem de Erro de 2.0%: False\n"
          ]
        }
      ],
      "source": [
        "T = 2401\n",
        "pesquisa = random.sample(populacao, k = T)\n",
        "\n",
        "a = pesquisa.count('A')/T\n",
        "b = pesquisa.count('B')/T\n",
        "c = pesquisa.count('C')/T\n",
        "d = pesquisa.count('D')/T\n",
        "\n",
        "resultado =  [a, b, c, d]\n",
        "erros = np.array(resultado) - np.array(proporcao)\n",
        "\n",
        "margem = 0.02\n",
        "print(abs(erros) < margem)\n",
        "\n",
        "r = all(abs(erros) < margem)   \n",
        "\n",
        "print('Valores reais:', proporcao)\n",
        "print('Estimativas  :', resultado)\n",
        "print('Erros:', erros)\n",
        "print('Margem de Erro de {:.1f}%:'.format(100*margem), r )"
      ]
    }
  ]
}