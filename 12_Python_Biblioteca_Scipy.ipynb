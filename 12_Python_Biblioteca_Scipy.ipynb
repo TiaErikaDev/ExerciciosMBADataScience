{
  "nbformat": 4,
  "nbformat_minor": 0,
  "metadata": {
    "colab": {
      "name": "12. Python - Biblioteca Scipy",
      "provenance": [],
      "collapsed_sections": [],
      "authorship_tag": "ABX9TyP64dNPAoS3548wHcxrIP1a",
      "include_colab_link": true
    },
    "kernelspec": {
      "name": "python3",
      "display_name": "Python 3"
    },
    "language_info": {
      "name": "python"
    }
  },
  "cells": [
    {
      "cell_type": "markdown",
      "metadata": {
        "id": "view-in-github",
        "colab_type": "text"
      },
      "source": [
        "<a href=\"https://colab.research.google.com/github/TiaErikaDev/ExerciciosPython/blob/main/12_Python_Biblioteca_Scipy.ipynb\" target=\"_parent\"><img src=\"https://colab.research.google.com/assets/colab-badge.svg\" alt=\"Open In Colab\"/></a>"
      ]
    },
    {
      "cell_type": "markdown",
      "source": [
        "#Aula 14 - A biblioteca Scipy"
      ],
      "metadata": {
        "id": "28-UiLBDLrCi"
      }
    },
    {
      "cell_type": "markdown",
      "source": [
        "https://docs.scipy.org/doc/scipy/tutorial/stats.html"
      ],
      "metadata": {
        "id": "blDbwidbQNKd"
      }
    },
    {
      "cell_type": "code",
      "execution_count": null,
      "metadata": {
        "id": "IeOsPiyjLp2x"
      },
      "outputs": [],
      "source": [
        "import scipy.stats as ss\n",
        "import numpy as np\n",
        "import matplotlib.pyplot as plt"
      ]
    },
    {
      "cell_type": "code",
      "source": [
        "#densidade"
      ],
      "metadata": {
        "id": "Pe_QeQJXT-wQ"
      },
      "execution_count": null,
      "outputs": []
    },
    {
      "cell_type": "code",
      "source": [
        "x =  np.arange(-1, 5, 0.01)\n",
        "y = ss.uniform.pdf(x, loc = 1, scale = 2)\n",
        "plt.plot(x, y)"
      ],
      "metadata": {
        "colab": {
          "base_uri": "https://localhost:8080/",
          "height": 282
        },
        "id": "6coKSN2sQWLJ",
        "outputId": "2ff7d9f8-7a76-48d3-ab86-93dd7d9633d1"
      },
      "execution_count": null,
      "outputs": [
        {
          "output_type": "execute_result",
          "data": {
            "text/plain": [
              "[<matplotlib.lines.Line2D at 0x7f0914b3a4d0>]"
            ]
          },
          "metadata": {},
          "execution_count": 25
        },
        {
          "output_type": "display_data",
          "data": {
            "text/plain": [
              "<Figure size 432x288 with 1 Axes>"
            ],
            "image/png": "[encoded data removed]"
          },
          "metadata": {
            "needs_background": "light"
          }
        }
      ]
    },
    {
      "cell_type": "code",
      "source": [
        "x =  np.arange(-5, 5, 0.01)\n",
        "y = ss.norm.pdf(x, loc = 0, scale = 1)\n",
        "plt.plot(x, y)"
      ],
      "metadata": {
        "colab": {
          "base_uri": "https://localhost:8080/",
          "height": 282
        },
        "id": "GEHBYod2Skg8",
        "outputId": "1def11e4-5222-4fe4-ef93-934ac7d5f791"
      },
      "execution_count": null,
      "outputs": [
        {
          "output_type": "execute_result",
          "data": {
            "text/plain": [
              "[<matplotlib.lines.Line2D at 0x7f0914bbff10>]"
            ]
          },
          "metadata": {},
          "execution_count": 24
        },
        {
          "output_type": "display_data",
          "data": {
            "text/plain": [
              "<Figure size 432x288 with 1 Axes>"
            ],
            "image/png": "[encoded data removed]"
          },
          "metadata": {
            "needs_background": "light"
          }
        }
      ]
    },
    {
      "cell_type": "code",
      "source": [
        "x =  np.arange(-1, 5, 0.01)\n",
        "y = ss.expon.pdf(x, scale = 1)\n",
        "plt.plot(x, y)"
      ],
      "metadata": {
        "colab": {
          "base_uri": "https://localhost:8080/",
          "height": 282
        },
        "id": "UusypuQuTbWD",
        "outputId": "f4f95992-e4a0-4f6a-f29a-a0c44ee319e3"
      },
      "execution_count": null,
      "outputs": [
        {
          "output_type": "execute_result",
          "data": {
            "text/plain": [
              "[<matplotlib.lines.Line2D at 0x7f0914a34290>]"
            ]
          },
          "metadata": {},
          "execution_count": 30
        },
        {
          "output_type": "display_data",
          "data": {
            "text/plain": [
              "<Figure size 432x288 with 1 Axes>"
            ],
            "image/png": "[encoded data removed]"
          },
          "metadata": {
            "needs_background": "light"
          }
        }
      ]
    },
    {
      "cell_type": "code",
      "source": [
        "#Acumulada(cdf)"
      ],
      "metadata": {
        "id": "T1HvpUQkT6ns"
      },
      "execution_count": null,
      "outputs": []
    },
    {
      "cell_type": "code",
      "source": [
        "ss.norm.cdf(4)"
      ],
      "metadata": {
        "colab": {
          "base_uri": "https://localhost:8080/"
        },
        "id": "x5O0gLi-ULK1",
        "outputId": "fa9bbd31-0d7d-403a-8e82-6423527983f6"
      },
      "execution_count": null,
      "outputs": [
        {
          "output_type": "execute_result",
          "data": {
            "text/plain": [
              "0.9999683287581669"
            ]
          },
          "metadata": {},
          "execution_count": 33
        }
      ]
    },
    {
      "cell_type": "code",
      "source": [
        "#quantis(ppf)"
      ],
      "metadata": {
        "id": "jqX3JSExUlNJ"
      },
      "execution_count": null,
      "outputs": []
    },
    {
      "cell_type": "code",
      "source": [
        "ss.norm.ppf(0.9999683287581669)"
      ],
      "metadata": {
        "colab": {
          "base_uri": "https://localhost:8080/"
        },
        "id": "7KZ46eYPUo7n",
        "outputId": "69990a67-c0b0-404c-979b-2789c7c847c2"
      },
      "execution_count": null,
      "outputs": [
        {
          "output_type": "execute_result",
          "data": {
            "text/plain": [
              "4.0"
            ]
          },
          "metadata": {},
          "execution_count": 35
        }
      ]
    },
    {
      "cell_type": "code",
      "source": [
        "#números aleatórios(rvs)"
      ],
      "metadata": {
        "id": "kd5_6YwqUxnN"
      },
      "execution_count": null,
      "outputs": []
    },
    {
      "cell_type": "code",
      "source": [
        "x = ss.expon.rvs(size = 10000)\n",
        "plt.hist(x, edgecolor = 'white', bins = 30)"
      ],
      "metadata": {
        "colab": {
          "base_uri": "https://localhost:8080/",
          "height": 508
        },
        "id": "4eAGHlQWU0u8",
        "outputId": "45ddab81-a1e0-44db-a9e0-447108cd7412"
      },
      "execution_count": null,
      "outputs": [
        {
          "output_type": "execute_result",
          "data": {
            "text/plain": [
              "(array([2.839e+03, 2.136e+03, 1.522e+03, 1.003e+03, 7.270e+02, 5.210e+02,\n",
              "        3.760e+02, 2.630e+02, 1.930e+02, 1.190e+02, 8.100e+01, 6.700e+01,\n",
              "        4.100e+01, 3.200e+01, 1.800e+01, 1.900e+01, 1.100e+01, 9.000e+00,\n",
              "        5.000e+00, 4.000e+00, 4.000e+00, 5.000e+00, 1.000e+00, 2.000e+00,\n",
              "        1.000e+00, 0.000e+00, 0.000e+00, 0.000e+00, 0.000e+00, 1.000e+00]),\n",
              " array([7.37984278e-05, 3.45279993e-01, 6.90486187e-01, 1.03569238e+00,\n",
              "        1.38089858e+00, 1.72610477e+00, 2.07131096e+00, 2.41651716e+00,\n",
              "        2.76172335e+00, 3.10692955e+00, 3.45213574e+00, 3.79734193e+00,\n",
              "        4.14254813e+00, 4.48775432e+00, 4.83296052e+00, 5.17816671e+00,\n",
              "        5.52337291e+00, 5.86857910e+00, 6.21378529e+00, 6.55899149e+00,\n",
              "        6.90419768e+00, 7.24940388e+00, 7.59461007e+00, 7.93981627e+00,\n",
              "        8.28502246e+00, 8.63022865e+00, 8.97543485e+00, 9.32064104e+00,\n",
              "        9.66584724e+00, 1.00110534e+01, 1.03562596e+01]),\n",
              " <a list of 30 Patch objects>)"
            ]
          },
          "metadata": {},
          "execution_count": 60
        },
        {
          "output_type": "display_data",
          "data": {
            "text/plain": [
              "<Figure size 432x288 with 1 Axes>"
            ],
            "image/png": "[encoded data removed]"
          },
          "metadata": {
            "needs_background": "light"
          }
        }
      ]
    },
    {
      "cell_type": "code",
      "source": [
        "u = ss.uniform.rvs(size = 1)\n",
        "if u < 0.30:\n",
        "  print('Só roda aqui aleatoriamente com probabilidade 30%')\n",
        "else:\n",
        "  print('Roda aqui com probabilidade 70%')"
      ],
      "metadata": {
        "colab": {
          "base_uri": "https://localhost:8080/"
        },
        "id": "uV8QsM7lWRcL",
        "outputId": "0a675b30-771f-4568-e764-8c9f7d68cdaa"
      },
      "execution_count": null,
      "outputs": [
        {
          "output_type": "stream",
          "name": "stdout",
          "text": [
            "Roda aqui com probabilidade 70%\n"
          ]
        }
      ]
    },
    {
      "cell_type": "code",
      "source": [
        "#estatisticas (stats)"
      ],
      "metadata": {
        "id": "4ToOjCC8W56M"
      },
      "execution_count": null,
      "outputs": []
    },
    {
      "cell_type": "code",
      "source": [
        "ss.uniform.stats()"
      ],
      "metadata": {
        "colab": {
          "base_uri": "https://localhost:8080/"
        },
        "id": "BdN-tm3BW8xx",
        "outputId": "e7d27ffd-1a56-4b46-974b-0bbf9e072bcd"
      },
      "execution_count": null,
      "outputs": [
        {
          "output_type": "execute_result",
          "data": {
            "text/plain": [
              "(array(0.5), array(0.08333333))"
            ]
          },
          "metadata": {},
          "execution_count": 70
        }
      ]
    },
    {
      "cell_type": "markdown",
      "source": [
        "#Exercício Proposto\n",
        "Faça um programa que gere 30 amostras aleatórias da distribuição exponencial. Para cada uma dessas amostras, calcule sua média e guarde. Repita o procedimento 1000 vezes e faça um histograma dos valores obtidos. O que você vê nesse gráfico? Repita tudo agora alternando a distribuição de exponencial para uniforme e normal. O que você vê nos gráficos? O que há em comum entre as abordagens?"
      ],
      "metadata": {
        "id": "o7DfcUWHXJX7"
      }
    },
    {
      "cell_type": "code",
      "source": [
        ""
      ],
      "metadata": {
        "id": "1Sru3ob5X7YH"
      },
      "execution_count": null,
      "outputs": []
    }
  ]
}