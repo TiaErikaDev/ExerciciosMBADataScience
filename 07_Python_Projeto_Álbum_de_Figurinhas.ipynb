{
  "nbformat": 4,
  "nbformat_minor": 0,
  "metadata": {
    "colab": {
      "name": "07. Python - Projeto Álbum de Figurinhas",
      "provenance": [],
      "collapsed_sections": [],
      "authorship_tag": "ABX9TyMgYM5XuVwPpneCjTb7ZLOW",
      "include_colab_link": true
    },
    "kernelspec": {
      "name": "python3",
      "display_name": "Python 3"
    },
    "language_info": {
      "name": "python"
    }
  },
  "cells": [
    {
      "cell_type": "markdown",
      "metadata": {
        "id": "view-in-github",
        "colab_type": "text"
      },
      "source": [
        "<a href=\"https://colab.research.google.com/github/TiaErikaDev/ExerciciosPython/blob/main/07_Python_Projeto_%C3%81lbum_de_Figurinhas.ipynb\" target=\"_parent\"><img src=\"https://colab.research.google.com/assets/colab-badge.svg\" alt=\"Open In Colab\"/></a>"
      ]
    },
    {
      "cell_type": "markdown",
      "source": [
        "#**AULA 10** - Projeto álbum de figurinhas\n"
      ],
      "metadata": {
        "id": "3YzkqIytotTz"
      }
    },
    {
      "cell_type": "markdown",
      "source": [
        "**Problema**: Descobrir o custo médio para completar o álbum da Copa do Mundo 2022"
      ],
      "metadata": {
        "id": "goxx7LcB0C8n"
      }
    },
    {
      "cell_type": "markdown",
      "source": [
        "**Copa do mundo Qatar 2022**\n",
        "1. Total de cromos: **251**\n",
        "2. Preço do envelope com 4 cromos: **R$ 4,00**\n"
      ],
      "metadata": {
        "id": "VSv1MAbS0Krt"
      }
    },
    {
      "cell_type": "markdown",
      "source": [
        "**Suposições**\n",
        "1. Todas as figurinhas tem igual probabilidade de serem sorteadas.\n",
        "2. Um pacotinho é comprado por vez\n",
        "3. Desejamos completar apenas de cromos, não de cards."
      ],
      "metadata": {
        "id": "I_Qg5F5o0f2c"
      }
    },
    {
      "cell_type": "markdown",
      "source": [
        "**Algorítimo**\n",
        "1. Comprar um pacotinho de figurinhas(4 figurinhas cada, que podem ser repetidas)\n",
        "2. Colar no álbum e  verificar se o álbum está completo.\n",
        "3. Caso esteja incompleto, comprar mais um pacotinho, coso contrário, terminar."
      ],
      "metadata": {
        "id": "6W3iuwIh024L"
      }
    },
    {
      "cell_type": "markdown",
      "source": [
        "**Perguntas**\n",
        "1. Qual o valor médio investido para completar o álbum nessas condições?"
      ],
      "metadata": {
        "id": "cRo_txqk1QWy"
      }
    },
    {
      "cell_type": "code",
      "execution_count": null,
      "metadata": {
        "id": "ni-8h0brorot"
      },
      "outputs": [],
      "source": [
        "import random\n",
        "\n",
        "#album zerado\n",
        "n = 251\n",
        "preco_album = 10\n",
        "preco_pacote = 4\n",
        "album = [0] * n\n",
        "\n",
        "def SimularComprarAlbum():\n",
        "  album = [0] * n\n",
        "  pacotes = 0\n",
        "\n",
        "  while True:\n",
        "    #comprar um pacotinho de figurinha\n",
        "    pacotinho = random.sample(range(n), 4)\n",
        "    pacotes += 1\n",
        "\n",
        "    #colar as figurinhas no album\n",
        "    for figurinha in pacotinho:\n",
        "      album[figurinha] += 1\n",
        "    \n",
        "    #verificar figurinhas preenchidas \n",
        "    preenchidas = []\n",
        "    for figurinha in album:\n",
        "      preenchidas.append(figurinha > 0)   \n",
        "    \n",
        "    if all(preenchidas):\n",
        "      break\n",
        "\n",
        "  return pacotes"
      ]
    },
    {
      "cell_type": "code",
      "source": [
        "SimularComprarAlbum()"
      ],
      "metadata": {
        "colab": {
          "base_uri": "https://localhost:8080/"
        },
        "id": "mHEoJKbR5fwZ",
        "outputId": "8588c61f-1cbf-47d4-ee0e-25ddee9d90cb"
      },
      "execution_count": null,
      "outputs": [
        {
          "output_type": "execute_result",
          "data": {
            "text/plain": [
              "311"
            ]
          },
          "metadata": {},
          "execution_count": 84
        }
      ]
    },
    {
      "cell_type": "code",
      "source": [
        "reps = 1000\n",
        "resultados = []\n",
        "\n",
        "for i in range(reps):\n",
        "  resultados.append(SimularComprarAlbum())\n",
        "  if (i+1) % 100 == 0:\n",
        "    print(f'Simulação {i+1}/{reps} completas')\n"
      ],
      "metadata": {
        "colab": {
          "base_uri": "https://localhost:8080/"
        },
        "id": "oZcpTLNq6GHV",
        "outputId": "829e6f96-eb5e-4898-cf79-6e3c493c95be"
      },
      "execution_count": null,
      "outputs": [
        {
          "output_type": "stream",
          "name": "stdout",
          "text": [
            "Simulação 100/1000 completas\n",
            "Simulação 200/1000 completas\n",
            "Simulação 300/1000 completas\n",
            "Simulação 400/1000 completas\n",
            "Simulação 500/1000 completas\n",
            "Simulação 600/1000 completas\n",
            "Simulação 700/1000 completas\n",
            "Simulação 800/1000 completas\n",
            "Simulação 900/1000 completas\n",
            "Simulação 1000/1000 completas\n"
          ]
        }
      ]
    },
    {
      "cell_type": "code",
      "source": [
        "#número de pacotes necessários, em média\n",
        "pacotes_medio = sum(resultados)/len(resultados)"
      ],
      "metadata": {
        "id": "lPXuNLe17LGr"
      },
      "execution_count": null,
      "outputs": []
    },
    {
      "cell_type": "code",
      "source": [
        "custo_medio = preco_album + preco_pacote * pacotes_medio\n",
        "print('Custo médio de R$', round(custo_medio, 2))"
      ],
      "metadata": {
        "colab": {
          "base_uri": "https://localhost:8080/"
        },
        "id": "3MwRAunZ7did",
        "outputId": "248ac67b-82a7-4e14-d528-09592fbdbf5b"
      },
      "execution_count": null,
      "outputs": [
        {
          "output_type": "stream",
          "name": "stdout",
          "text": [
            "Custo médio de R$ 1543.82\n"
          ]
        }
      ]
    },
    {
      "cell_type": "markdown",
      "source": [
        "#**EXERCÍCIO PROPOSTO**"
      ],
      "metadata": {
        "id": "MTwQopUf8K9r"
      }
    },
    {
      "cell_type": "markdown",
      "source": [
        "1. resposta: 14\n",
        "2. 15\n",
        "3. \n"
      ],
      "metadata": {
        "id": "hnSIyQ3u9Pk5"
      }
    },
    {
      "cell_type": "code",
      "source": [
        ""
      ],
      "metadata": {
        "id": "mj8Rk4738OUz"
      },
      "execution_count": null,
      "outputs": []
    }
  ]
}