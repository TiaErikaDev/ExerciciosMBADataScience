{
  "nbformat": 4,
  "nbformat_minor": 0,
  "metadata": {
    "colab": {
      "name": "13. Python - Biblioteca Scipy",
      "provenance": [],
      "collapsed_sections": [],
      "authorship_tag": "ABX9TyOPlwA3JrhRin+Ttup41FqB",
      "include_colab_link": true
    },
    "kernelspec": {
      "name": "python3",
      "display_name": "Python 3"
    },
    "language_info": {
      "name": "python"
    }
  },
  "cells": [
    {
      "cell_type": "markdown",
      "metadata": {
        "id": "view-in-github",
        "colab_type": "text"
      },
      "source": [
        "<a href=\"https://colab.research.google.com/github/TiaErikaDev/ExerciciosPython/blob/main/13_Python_Biblioteca_Scipy.ipynb\" target=\"_parent\"><img src=\"https://colab.research.google.com/assets/colab-badge.svg\" alt=\"Open In Colab\"/></a>"
      ]
    },
    {
      "cell_type": "markdown",
      "source": [
        "#A Biblioteca Scipy\n",
        "##Probabilidade"
      ],
      "metadata": {
        "id": "2fvWQ2I1ue3k"
      }
    },
    {
      "cell_type": "code",
      "source": [
        ""
      ],
      "metadata": {
        "id": "9alI4pY6wUWB"
      },
      "execution_count": null,
      "outputs": []
    },
    {
      "cell_type": "code",
      "source": [
        "import scipy.stats as ss\n",
        "import numpy as np\n",
        "import matplotlib.pyplot as plt\n"
      ],
      "metadata": {
        "id": "Qd-VYkkywJsb"
      },
      "execution_count": null,
      "outputs": []
    },
    {
      "cell_type": "code",
      "execution_count": null,
      "metadata": {
        "colab": {
          "base_uri": "https://localhost:8080/",
          "height": 282
        },
        "id": "0zpN4tSPuUM9",
        "outputId": "9e3a737e-c7e9-4842-9f1f-42d3f8d3f80a"
      },
      "outputs": [
        {
          "output_type": "execute_result",
          "data": {
            "text/plain": [
              "[<matplotlib.lines.Line2D at 0x7f4e0e635ed0>]"
            ]
          },
          "metadata": {},
          "execution_count": 32
        },
        {
          "output_type": "display_data",
          "data": {
            "text/plain": [
              "<Figure size 432x288 with 1 Axes>"
            ],
            "image/png": "[encoded data removed]"
          },
          "metadata": {
            "needs_background": "light"
          }
        }
      ],
      "source": [
        "#Distribuição normal\n",
        "\n",
        "x = np.arange(-5, 5, 0.01)\n",
        "y = ss.norm.pdf(x, loc = 0, scale = 1)\n",
        "plt.plot(x, y)"
      ]
    },
    {
      "cell_type": "code",
      "source": [
        "#Distribuição Uniforme\n",
        "xu = np.arange(-1, 5, 0.01)\n",
        "yu = ss.uniform.pdf(xu, loc = 1, scale = 2)\n",
        "plt.plot(xu, yu)"
      ],
      "metadata": {
        "colab": {
          "base_uri": "https://localhost:8080/",
          "height": 282
        },
        "id": "1qlVQvT8vjH8",
        "outputId": "87702e5a-5832-41da-fb60-2f8133d35257"
      },
      "execution_count": null,
      "outputs": [
        {
          "output_type": "execute_result",
          "data": {
            "text/plain": [
              "[<matplotlib.lines.Line2D at 0x7f4e0e7fc990>]"
            ]
          },
          "metadata": {},
          "execution_count": 35
        },
        {
          "output_type": "display_data",
          "data": {
            "text/plain": [
              "<Figure size 432x288 with 1 Axes>"
            ],
            "image/png": "[encoded data removed]"
          },
          "metadata": {
            "needs_background": "light"
          }
        }
      ]
    },
    {
      "cell_type": "code",
      "source": [
        "#Distribuição Exponencial\n",
        "\n",
        "xe = np.arange(-1, 5, 0.01)\n",
        "ye = ss.expon.pdf(xe, scale = 1)\n",
        "plt.plot(xe, ye)"
      ],
      "metadata": {
        "colab": {
          "base_uri": "https://localhost:8080/",
          "height": 282
        },
        "id": "_Dvtch_RvmEd",
        "outputId": "e6fb9e6a-acb2-4abb-93e5-a3cec621fad2"
      },
      "execution_count": null,
      "outputs": [
        {
          "output_type": "execute_result",
          "data": {
            "text/plain": [
              "[<matplotlib.lines.Line2D at 0x7f4e0e33bc50>]"
            ]
          },
          "metadata": {},
          "execution_count": 39
        },
        {
          "output_type": "display_data",
          "data": {
            "text/plain": [
              "<Figure size 432x288 with 1 Axes>"
            ],
            "image/png": "[encoded data removed]"
          },
          "metadata": {
            "needs_background": "light"
          }
        }
      ]
    },
    {
      "cell_type": "code",
      "source": [
        "#Acumulada(cdf) \n",
        "#Qual valor da probabilidade que acumula até o 0\n",
        "ss.norm.cdf(0)"
      ],
      "metadata": {
        "colab": {
          "base_uri": "https://localhost:8080/"
        },
        "id": "4Idhd_X20WoV",
        "outputId": "f43145d4-675d-453c-87e6-34f84b11a2a1"
      },
      "execution_count": null,
      "outputs": [
        {
          "output_type": "execute_result",
          "data": {
            "text/plain": [
              "0.5"
            ]
          },
          "metadata": {},
          "execution_count": 44
        }
      ]
    },
    {
      "cell_type": "code",
      "source": [
        "#Quantis(ppf) contrário da acumulada\n",
        "\n",
        "ss.norm.ppf(0.5)"
      ],
      "metadata": {
        "colab": {
          "base_uri": "https://localhost:8080/"
        },
        "id": "Y0k4VWq0037s",
        "outputId": "119cf300-c81c-4ede-f5a1-a99df3df5033"
      },
      "execution_count": null,
      "outputs": [
        {
          "output_type": "execute_result",
          "data": {
            "text/plain": [
              "0.0"
            ]
          },
          "metadata": {},
          "execution_count": 46
        }
      ]
    },
    {
      "cell_type": "code",
      "source": [
        "#Números aleatórios (rvs)\n",
        "#Normal\n",
        "N = ss.norm.rvs(size = 10000)\n",
        "\n",
        "#histograma\n",
        "plt.hist(N, bins = 30)"
      ],
      "metadata": {
        "colab": {
          "base_uri": "https://localhost:8080/",
          "height": 491
        },
        "id": "obf0TrSu1SV8",
        "outputId": "1504b7ff-8c15-4f49-dbc1-fba638ff0c11"
      },
      "execution_count": null,
      "outputs": [
        {
          "output_type": "execute_result",
          "data": {
            "text/plain": [
              "(array([3.000e+00, 3.000e+00, 6.000e+00, 1.300e+01, 2.300e+01, 4.900e+01,\n",
              "        1.150e+02, 1.730e+02, 2.460e+02, 4.130e+02, 5.420e+02, 7.270e+02,\n",
              "        9.190e+02, 1.013e+03, 1.090e+03, 1.027e+03, 9.680e+02, 8.190e+02,\n",
              "        6.280e+02, 4.500e+02, 3.240e+02, 2.060e+02, 1.180e+02, 6.400e+01,\n",
              "        3.700e+01, 1.600e+01, 4.000e+00, 2.000e+00, 1.000e+00, 1.000e+00]),\n",
              " array([-3.93601689, -3.6696107 , -3.40320452, -3.13679833, -2.87039215,\n",
              "        -2.60398596, -2.33757978, -2.07117359, -1.80476741, -1.53836122,\n",
              "        -1.27195504, -1.00554886, -0.73914267, -0.47273649, -0.2063303 ,\n",
              "         0.06007588,  0.32648207,  0.59288825,  0.85929444,  1.12570062,\n",
              "         1.39210681,  1.65851299,  1.92491917,  2.19132536,  2.45773154,\n",
              "         2.72413773,  2.99054391,  3.2569501 ,  3.52335628,  3.78976247,\n",
              "         4.05616865]),\n",
              " <a list of 30 Patch objects>)"
            ]
          },
          "metadata": {},
          "execution_count": 51
        },
        {
          "output_type": "display_data",
          "data": {
            "text/plain": [
              "<Figure size 432x288 with 1 Axes>"
            ],
            "image/png": "[encoded data removed]"
          },
          "metadata": {
            "needs_background": "light"
          }
        }
      ]
    },
    {
      "cell_type": "code",
      "source": [
        "#Números aleatórios (rvs)\n",
        "#Normal\n",
        "U = ss.uniform.rvs(size = 10000)\n",
        "\n",
        "#histograma\n",
        "plt.hist(U, bins = 30)"
      ],
      "metadata": {
        "colab": {
          "base_uri": "https://localhost:8080/",
          "height": 473
        },
        "id": "_0f43Q2k2TUH",
        "outputId": "cac1cc37-ff88-4d49-9849-1d0e9f332fcf"
      },
      "execution_count": null,
      "outputs": [
        {
          "output_type": "execute_result",
          "data": {
            "text/plain": [
              "(array([315., 344., 335., 317., 334., 346., 299., 354., 335., 308., 339.,\n",
              "        349., 365., 343., 300., 328., 304., 333., 322., 295., 333., 345.,\n",
              "        332., 319., 345., 344., 371., 356., 341., 349.]),\n",
              " array([3.55863506e-05, 3.33600990e-02, 6.66846117e-02, 1.00009124e-01,\n",
              "        1.33333637e-01, 1.66658150e-01, 1.99982662e-01, 2.33307175e-01,\n",
              "        2.66631688e-01, 2.99956200e-01, 3.33280713e-01, 3.66605226e-01,\n",
              "        3.99929738e-01, 4.33254251e-01, 4.66578764e-01, 4.99903276e-01,\n",
              "        5.33227789e-01, 5.66552302e-01, 5.99876814e-01, 6.33201327e-01,\n",
              "        6.66525840e-01, 6.99850352e-01, 7.33174865e-01, 7.66499378e-01,\n",
              "        7.99823891e-01, 8.33148403e-01, 8.66472916e-01, 8.99797429e-01,\n",
              "        9.33121941e-01, 9.66446454e-01, 9.99770967e-01]),\n",
              " <a list of 30 Patch objects>)"
            ]
          },
          "metadata": {},
          "execution_count": 52
        },
        {
          "output_type": "display_data",
          "data": {
            "text/plain": [
              "<Figure size 432x288 with 1 Axes>"
            ],
            "image/png": "[encoded data removed]"
          },
          "metadata": {
            "needs_background": "light"
          }
        }
      ]
    },
    {
      "cell_type": "code",
      "source": [
        "#Extra\n",
        "u = ss.uniform.rvs(size = 1)\n",
        "if u < 0.30:\n",
        "  print('Só roda aqui aleatoriamente com probabilidade 30%')\n",
        "else:\n",
        "  print('Roda aqui com probabilidade 70%')"
      ],
      "metadata": {
        "colab": {
          "base_uri": "https://localhost:8080/"
        },
        "id": "Xb7ogYm825WL",
        "outputId": "26d0a92d-47ff-481d-b7e2-3f8534b68391"
      },
      "execution_count": null,
      "outputs": [
        {
          "output_type": "stream",
          "name": "stdout",
          "text": [
            "Roda aqui com probabilidade 70%\n"
          ]
        }
      ]
    },
    {
      "cell_type": "code",
      "source": [
        "#Números aleatórios (rvs)\n",
        "#Normal\n",
        "E = ss.expon.rvs(size = 10000)\n",
        "\n",
        "#histograma\n",
        "plt.hist(E, bins = 30)"
      ],
      "metadata": {
        "colab": {
          "base_uri": "https://localhost:8080/",
          "height": 508
        },
        "id": "Z-2jfKGy2TsL",
        "outputId": "dc1e0463-aa57-4c03-dd2c-5b74950e5c62"
      },
      "execution_count": null,
      "outputs": [
        {
          "output_type": "execute_result",
          "data": {
            "text/plain": [
              "(array([2.800e+03, 2.070e+03, 1.494e+03, 1.057e+03, 7.390e+02, 5.260e+02,\n",
              "        3.930e+02, 2.590e+02, 2.040e+02, 1.290e+02, 9.400e+01, 6.200e+01,\n",
              "        4.800e+01, 2.900e+01, 2.500e+01, 2.000e+01, 1.000e+01, 1.700e+01,\n",
              "        1.200e+01, 3.000e+00, 3.000e+00, 0.000e+00, 2.000e+00, 0.000e+00,\n",
              "        1.000e+00, 0.000e+00, 1.000e+00, 0.000e+00, 1.000e+00, 1.000e+00]),\n",
              " array([2.52536796e-06, 3.39890929e-01, 6.79779332e-01, 1.01966774e+00,\n",
              "        1.35955614e+00, 1.69944454e+00, 2.03933295e+00, 2.37922135e+00,\n",
              "        2.71910975e+00, 3.05899816e+00, 3.39888656e+00, 3.73877496e+00,\n",
              "        4.07866337e+00, 4.41855177e+00, 4.75844018e+00, 5.09832858e+00,\n",
              "        5.43821698e+00, 5.77810539e+00, 6.11799379e+00, 6.45788219e+00,\n",
              "        6.79777060e+00, 7.13765900e+00, 7.47754740e+00, 7.81743581e+00,\n",
              "        8.15732421e+00, 8.49721261e+00, 8.83710102e+00, 9.17698942e+00,\n",
              "        9.51687783e+00, 9.85676623e+00, 1.01966546e+01]),\n",
              " <a list of 30 Patch objects>)"
            ]
          },
          "metadata": {},
          "execution_count": 53
        },
        {
          "output_type": "display_data",
          "data": {
            "text/plain": [
              "<Figure size 432x288 with 1 Axes>"
            ],
            "image/png": "[encoded data removed]"
          },
          "metadata": {
            "needs_background": "light"
          }
        }
      ]
    },
    {
      "cell_type": "code",
      "source": [
        "#Estatisticas (stats)\n",
        "\n",
        "ss.uniform.stats()"
      ],
      "metadata": {
        "colab": {
          "base_uri": "https://localhost:8080/"
        },
        "id": "86Cm96Ph3bAO",
        "outputId": "3968e094-e0bd-4f96-b888-0a0f5cba581e"
      },
      "execution_count": null,
      "outputs": [
        {
          "output_type": "execute_result",
          "data": {
            "text/plain": [
              "(array(0.5), array(0.08333333))"
            ]
          },
          "metadata": {},
          "execution_count": 64
        }
      ]
    },
    {
      "cell_type": "markdown",
      "source": [
        "###Exercício Proposto###\n",
        "Faça um programa que gere 30 amostras aleatórias da distribuição exponencial. Para cada uma dessas amostras, calcule a média e guarde. Repita o procedimento 1000 vezes e faça um histograma dos valores obtidos. O que você vê nese gráfico? Repita tudo agora alternando a distribuição de exponencial para uniforme e normal. O que você vê nos gráficos? O que há em comum entre as abordagens?"
      ],
      "metadata": {
        "id": "0mj6DmQvulQe"
      }
    },
    {
      "cell_type": "code",
      "source": [
        "x = ss.expon.rvs(size = 30)\n",
        "x"
      ],
      "metadata": {
        "colab": {
          "base_uri": "https://localhost:8080/"
        },
        "id": "pEAaeL4XvPwF",
        "outputId": "bee87c26-b3a7-4907-a045-cce8e619429c"
      },
      "execution_count": null,
      "outputs": [
        {
          "output_type": "execute_result",
          "data": {
            "text/plain": [
              "array([3.84577642e-03, 2.47955788e-01, 1.11186780e+00, 1.64559928e+00,\n",
              "       5.68285557e-01, 3.41823463e-01, 9.76824579e-01, 2.21246105e+00,\n",
              "       4.80104439e+00, 2.45530460e+00, 8.99480583e-01, 1.47766940e+00,\n",
              "       1.75608005e+00, 1.65145544e-01, 2.14666983e-01, 1.88221393e-01,\n",
              "       3.28872409e-01, 5.10997587e-01, 7.98718102e-01, 1.53027369e+00,\n",
              "       9.68121632e-01, 1.18052865e+00, 1.24651855e+00, 1.26084193e+00,\n",
              "       1.48348074e+00, 9.56509696e-01, 3.79634051e-01, 1.20300239e+00,\n",
              "       1.78773587e+00, 1.03514958e+00])"
            ]
          },
          "metadata": {},
          "execution_count": 88
        }
      ]
    },
    {
      "cell_type": "code",
      "source": [
        "media = [ss.expon.stats(x)]\n",
        "media"
      ],
      "metadata": {
        "colab": {
          "base_uri": "https://localhost:8080/"
        },
        "id": "N7nfqBUp34Ii",
        "outputId": "2d284ea7-6ac4-4942-ed9c-d93d8fde89e3"
      },
      "execution_count": null,
      "outputs": [
        {
          "output_type": "execute_result",
          "data": {
            "text/plain": [
              "[(array([1.00384578, 1.24795579, 2.1118678 , 2.64559928, 1.56828556,\n",
              "         1.34182346, 1.97682458, 3.21246105, 5.80104439, 3.4553046 ,\n",
              "         1.89948058, 2.4776694 , 2.75608005, 1.16514554, 1.21466698,\n",
              "         1.18822139, 1.32887241, 1.51099759, 1.7987181 , 2.53027369,\n",
              "         1.96812163, 2.18052865, 2.24651855, 2.26084193, 2.48348074,\n",
              "         1.9565097 , 1.37963405, 2.20300239, 2.78773587, 2.03514958]),\n",
              "  array([1., 1., 1., 1., 1., 1., 1., 1., 1., 1., 1., 1., 1., 1., 1., 1., 1.,\n",
              "         1., 1., 1., 1., 1., 1., 1., 1., 1., 1., 1., 1., 1.]))]"
            ]
          },
          "metadata": {},
          "execution_count": 90
        }
      ]
    },
    {
      "cell_type": "code",
      "source": [
        "plt.hist(media[0])"
      ],
      "metadata": {
        "colab": {
          "base_uri": "https://localhost:8080/",
          "height": 369
        },
        "id": "KH-ddsvz5aA6",
        "outputId": "14252539-b8cc-40c1-9b55-abd6c7a3d0a8"
      },
      "execution_count": null,
      "outputs": [
        {
          "output_type": "execute_result",
          "data": {
            "text/plain": [
              "(array([[ 8.,  5.,  8.,  6.,  1.,  1.,  0.,  0.,  0.,  1.],\n",
              "        [30.,  0.,  0.,  0.,  0.,  0.,  0.,  0.,  0.,  0.]]),\n",
              " array([1.        , 1.48010444, 1.96020888, 2.44031332, 2.92041776,\n",
              "        3.4005222 , 3.88062664, 4.36073108, 4.84083552, 5.32093996,\n",
              "        5.80104439]),\n",
              " <a list of 2 Lists of Patches objects>)"
            ]
          },
          "metadata": {},
          "execution_count": 91
        },
        {
          "output_type": "display_data",
          "data": {
            "text/plain": [
              "<Figure size 432x288 with 1 Axes>"
            ],
            "image/png": "[encoded data removed]"
          },
          "metadata": {
            "needs_background": "light"
          }
        }
      ]
    }
  ]
}