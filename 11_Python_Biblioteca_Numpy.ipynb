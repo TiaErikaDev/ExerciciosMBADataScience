{
  "nbformat": 4,
  "nbformat_minor": 0,
  "metadata": {
    "colab": {
      "name": "11. Python - Biblioteca Numpy",
      "provenance": [],
      "collapsed_sections": [],
      "authorship_tag": "ABX9TyPv7wz2+TjIxu1wQShcntEm",
      "include_colab_link": true
    },
    "kernelspec": {
      "name": "python3",
      "display_name": "Python 3"
    },
    "language_info": {
      "name": "python"
    }
  },
  "cells": [
    {
      "cell_type": "markdown",
      "metadata": {
        "id": "view-in-github",
        "colab_type": "text"
      },
      "source": [
        "<a href=\"https://colab.research.google.com/github/TiaErikaDev/ExerciciosPython/blob/main/11_Python_Biblioteca_Numpy.ipynb\" target=\"_parent\"><img src=\"https://colab.research.google.com/assets/colab-badge.svg\" alt=\"Open In Colab\"/></a>"
      ]
    },
    {
      "cell_type": "markdown",
      "source": [
        "#Aula 13 - Mais da biblioteca Numpy"
      ],
      "metadata": {
        "id": "85rnLmZnC3nb"
      }
    },
    {
      "cell_type": "code",
      "source": [
        "import numpy as np"
      ],
      "metadata": {
        "id": "-pC2X67wDg4l"
      },
      "execution_count": null,
      "outputs": []
    },
    {
      "cell_type": "code",
      "execution_count": null,
      "metadata": {
        "id": "seIKa1lJC2Oz"
      },
      "outputs": [],
      "source": [
        "# arange, linspace, concatenate, min, max, sum, mean, var, std"
      ]
    },
    {
      "cell_type": "code",
      "source": [
        "np.arange(0, 10, 2)\n",
        "#inicia no 0 vai até o 10 de 2 em 2, mas não inclui o 10"
      ],
      "metadata": {
        "colab": {
          "base_uri": "https://localhost:8080/"
        },
        "id": "hslRC8NUDxqc",
        "outputId": "d1b955c0-131b-4b39-a719-59d0e04e426f"
      },
      "execution_count": null,
      "outputs": [
        {
          "output_type": "execute_result",
          "data": {
            "text/plain": [
              "array([0, 2, 4, 6, 8])"
            ]
          },
          "metadata": {},
          "execution_count": 4
        }
      ]
    },
    {
      "cell_type": "code",
      "source": [
        "np.linspace(10, 50, 5)\n",
        "#5 valores entre 10 e 50"
      ],
      "metadata": {
        "colab": {
          "base_uri": "https://localhost:8080/"
        },
        "id": "kNi4hny-D1i2",
        "outputId": "ed6ff3f0-6b89-4867-ed6b-123d4fe72aa7"
      },
      "execution_count": null,
      "outputs": [
        {
          "output_type": "execute_result",
          "data": {
            "text/plain": [
              "array([10., 20., 30., 40., 50.])"
            ]
          },
          "metadata": {},
          "execution_count": 8
        }
      ]
    },
    {
      "cell_type": "code",
      "source": [
        "x = np.linspace(0, 100, 27)\n",
        "x"
      ],
      "metadata": {
        "colab": {
          "base_uri": "https://localhost:8080/"
        },
        "id": "y1t4tEdRFIxN",
        "outputId": "b733048f-4e94-4339-b211-e0717c797cd0"
      },
      "execution_count": null,
      "outputs": [
        {
          "output_type": "execute_result",
          "data": {
            "text/plain": [
              "array([  0.        ,   3.84615385,   7.69230769,  11.53846154,\n",
              "        15.38461538,  19.23076923,  23.07692308,  26.92307692,\n",
              "        30.76923077,  34.61538462,  38.46153846,  42.30769231,\n",
              "        46.15384615,  50.        ,  53.84615385,  57.69230769,\n",
              "        61.53846154,  65.38461538,  69.23076923,  73.07692308,\n",
              "        76.92307692,  80.76923077,  84.61538462,  88.46153846,\n",
              "        92.30769231,  96.15384615, 100.        ])"
            ]
          },
          "metadata": {},
          "execution_count": 18
        }
      ]
    },
    {
      "cell_type": "code",
      "source": [
        "x.shape"
      ],
      "metadata": {
        "colab": {
          "base_uri": "https://localhost:8080/"
        },
        "id": "uUefuhJCFfqR",
        "outputId": "49e19c30-3cff-4327-c92a-01467733c824"
      },
      "execution_count": null,
      "outputs": [
        {
          "output_type": "execute_result",
          "data": {
            "text/plain": [
              "(27,)"
            ]
          },
          "metadata": {},
          "execution_count": 19
        }
      ]
    },
    {
      "cell_type": "code",
      "source": [
        "x.reshape(9,3)"
      ],
      "metadata": {
        "colab": {
          "base_uri": "https://localhost:8080/"
        },
        "id": "G0liOa40FxGF",
        "outputId": "730af093-c74d-4f65-ec99-f776f28ea279"
      },
      "execution_count": null,
      "outputs": [
        {
          "output_type": "execute_result",
          "data": {
            "text/plain": [
              "array([[  0.        ,   3.84615385,   7.69230769],\n",
              "       [ 11.53846154,  15.38461538,  19.23076923],\n",
              "       [ 23.07692308,  26.92307692,  30.76923077],\n",
              "       [ 34.61538462,  38.46153846,  42.30769231],\n",
              "       [ 46.15384615,  50.        ,  53.84615385],\n",
              "       [ 57.69230769,  61.53846154,  65.38461538],\n",
              "       [ 69.23076923,  73.07692308,  76.92307692],\n",
              "       [ 80.76923077,  84.61538462,  88.46153846],\n",
              "       [ 92.30769231,  96.15384615, 100.        ]])"
            ]
          },
          "metadata": {},
          "execution_count": 20
        }
      ]
    },
    {
      "cell_type": "code",
      "source": [
        "x.reshape(3,3,3)"
      ],
      "metadata": {
        "colab": {
          "base_uri": "https://localhost:8080/"
        },
        "id": "DkKjOa6NF3Mf",
        "outputId": "dec85370-604f-43b8-b235-e8890270c2de"
      },
      "execution_count": null,
      "outputs": [
        {
          "output_type": "execute_result",
          "data": {
            "text/plain": [
              "array([[[  0.        ,   3.84615385,   7.69230769],\n",
              "        [ 11.53846154,  15.38461538,  19.23076923],\n",
              "        [ 23.07692308,  26.92307692,  30.76923077]],\n",
              "\n",
              "       [[ 34.61538462,  38.46153846,  42.30769231],\n",
              "        [ 46.15384615,  50.        ,  53.84615385],\n",
              "        [ 57.69230769,  61.53846154,  65.38461538]],\n",
              "\n",
              "       [[ 69.23076923,  73.07692308,  76.92307692],\n",
              "        [ 80.76923077,  84.61538462,  88.46153846],\n",
              "        [ 92.30769231,  96.15384615, 100.        ]]])"
            ]
          },
          "metadata": {},
          "execution_count": 21
        }
      ]
    },
    {
      "cell_type": "code",
      "source": [
        "vetor1 = np.array([1,2,3])\n",
        "vetor2 = np.array([1,6,9])\n",
        "\n",
        "vetor3 = np.concatenate([vetor2, vetor1, vetor2])\n"
      ],
      "metadata": {
        "id": "sxf8MTAIGMu1"
      },
      "execution_count": null,
      "outputs": []
    },
    {
      "cell_type": "code",
      "source": [
        "vetor3 = vetor3.reshape(3,3)"
      ],
      "metadata": {
        "id": "RoyfEr-_H4RX"
      },
      "execution_count": null,
      "outputs": []
    },
    {
      "cell_type": "code",
      "source": [
        "vetor3.mean()\n",
        "#média dos elementos"
      ],
      "metadata": {
        "colab": {
          "base_uri": "https://localhost:8080/"
        },
        "id": "n9Hie_pxIwx-",
        "outputId": "323bdae9-c298-4229-9397-aef869c132a6"
      },
      "execution_count": null,
      "outputs": [
        {
          "output_type": "execute_result",
          "data": {
            "text/plain": [
              "4.222222222222222"
            ]
          },
          "metadata": {},
          "execution_count": 34
        }
      ]
    },
    {
      "cell_type": "code",
      "source": [
        "vetor3.mean(axis = 0)\n",
        "#fazer a media entre as colunas"
      ],
      "metadata": {
        "colab": {
          "base_uri": "https://localhost:8080/"
        },
        "id": "Vw0KZWCfIPzO",
        "outputId": "20f83536-ad66-4990-febe-a8cd4dae4f60"
      },
      "execution_count": null,
      "outputs": [
        {
          "output_type": "execute_result",
          "data": {
            "text/plain": [
              "array([1.        , 4.66666667, 7.        ])"
            ]
          },
          "metadata": {},
          "execution_count": 32
        }
      ]
    },
    {
      "cell_type": "code",
      "source": [
        "vetor3.mean(axis = 1)\n",
        "#fazer a media entre as linhas"
      ],
      "metadata": {
        "colab": {
          "base_uri": "https://localhost:8080/"
        },
        "id": "aUexSCB4Io7e",
        "outputId": "7596b99d-f690-4dfe-a009-51fe7330bcfa"
      },
      "execution_count": null,
      "outputs": [
        {
          "output_type": "execute_result",
          "data": {
            "text/plain": [
              "array([5.33333333, 2.        , 5.33333333])"
            ]
          },
          "metadata": {},
          "execution_count": 33
        }
      ]
    },
    {
      "cell_type": "code",
      "source": [
        "vetor3.std()\n",
        "#STD = desvio padrão. \n",
        "#Raiz quadrada da variância.\n",
        "#variância, medida de quanto os valores estão variando da média."
      ],
      "metadata": {
        "colab": {
          "base_uri": "https://localhost:8080/"
        },
        "id": "eZfFYhXuI2NO",
        "outputId": "7eb24f64-1f9b-459c-becd-7785c5d468b8"
      },
      "execution_count": null,
      "outputs": [
        {
          "output_type": "execute_result",
          "data": {
            "text/plain": [
              "3.1544599036840864"
            ]
          },
          "metadata": {},
          "execution_count": 35
        }
      ]
    },
    {
      "cell_type": "code",
      "source": [
        "vetor3.std(axis = 1)\n"
      ],
      "metadata": {
        "colab": {
          "base_uri": "https://localhost:8080/"
        },
        "id": "brQo3uyEJKRf",
        "outputId": "64989194-a196-4174-f379-11dc72ae5ddc"
      },
      "execution_count": null,
      "outputs": [
        {
          "output_type": "execute_result",
          "data": {
            "text/plain": [
              "array([3.29983165, 0.81649658, 3.29983165])"
            ]
          },
          "metadata": {},
          "execution_count": 37
        }
      ]
    },
    {
      "cell_type": "code",
      "source": [
        "vetor3.min(axis = 1)"
      ],
      "metadata": {
        "colab": {
          "base_uri": "https://localhost:8080/"
        },
        "id": "qNSWVm2sJXQt",
        "outputId": "14f935d6-7075-4702-d573-180add07a6d2"
      },
      "execution_count": null,
      "outputs": [
        {
          "output_type": "execute_result",
          "data": {
            "text/plain": [
              "array([1, 1, 1])"
            ]
          },
          "metadata": {},
          "execution_count": 39
        }
      ]
    },
    {
      "cell_type": "code",
      "source": [
        "vetor3.max()"
      ],
      "metadata": {
        "colab": {
          "base_uri": "https://localhost:8080/"
        },
        "id": "mmSCuzpqJdz1",
        "outputId": "73970532-25a0-4e12-8197-240b781e62a8"
      },
      "execution_count": null,
      "outputs": [
        {
          "output_type": "execute_result",
          "data": {
            "text/plain": [
              "9"
            ]
          },
          "metadata": {},
          "execution_count": 42
        }
      ]
    },
    {
      "cell_type": "code",
      "source": [
        "vetor3.sum()"
      ],
      "metadata": {
        "colab": {
          "base_uri": "https://localhost:8080/"
        },
        "id": "GuEyfcncJoOP",
        "outputId": "020ad9e0-218c-4890-8890-7115fc2bdefa"
      },
      "execution_count": null,
      "outputs": [
        {
          "output_type": "execute_result",
          "data": {
            "text/plain": [
              "38"
            ]
          },
          "metadata": {},
          "execution_count": 43
        }
      ]
    },
    {
      "cell_type": "code",
      "source": [
        "vetor3.var()\n",
        "#variância"
      ],
      "metadata": {
        "colab": {
          "base_uri": "https://localhost:8080/"
        },
        "id": "4AJJgQPXJq6e",
        "outputId": "64aa8c9c-7b79-4c65-db73-745aa9df98a5"
      },
      "execution_count": null,
      "outputs": [
        {
          "output_type": "execute_result",
          "data": {
            "text/plain": [
              "9.950617283950615"
            ]
          },
          "metadata": {},
          "execution_count": 44
        }
      ]
    },
    {
      "cell_type": "code",
      "source": [
        "np.sqrt(vetor3.var())"
      ],
      "metadata": {
        "colab": {
          "base_uri": "https://localhost:8080/"
        },
        "id": "cPQQgVhZJv-I",
        "outputId": "cdf42c57-c3cf-410a-8c23-9da4cad3faa4"
      },
      "execution_count": null,
      "outputs": [
        {
          "output_type": "execute_result",
          "data": {
            "text/plain": [
              "3.1544599036840864"
            ]
          },
          "metadata": {},
          "execution_count": 45
        }
      ]
    },
    {
      "cell_type": "code",
      "source": [
        "vetor3.std()"
      ],
      "metadata": {
        "colab": {
          "base_uri": "https://localhost:8080/"
        },
        "id": "nVLJL3hAJ_6U",
        "outputId": "8ff15c34-ac70-4a37-a97f-70e1430d3b79"
      },
      "execution_count": null,
      "outputs": [
        {
          "output_type": "execute_result",
          "data": {
            "text/plain": [
              "3.1544599036840864"
            ]
          },
          "metadata": {},
          "execution_count": 46
        }
      ]
    },
    {
      "cell_type": "markdown",
      "source": [
        "#Exercício Proposto"
      ],
      "metadata": {
        "id": "H8DSjglbKFdw"
      }
    }
  ]
}