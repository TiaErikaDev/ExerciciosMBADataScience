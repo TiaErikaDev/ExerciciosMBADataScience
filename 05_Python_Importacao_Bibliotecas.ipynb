{
  "nbformat": 4,
  "nbformat_minor": 0,
  "metadata": {
    "colab": {
      "name": "05. Python - Importacao Bibliotecas",
      "provenance": [],
      "collapsed_sections": [],
      "authorship_tag": "ABX9TyPmkZgg4W2s7EQXgvhog5p2",
      "include_colab_link": true
    },
    "kernelspec": {
      "name": "python3",
      "display_name": "Python 3"
    },
    "language_info": {
      "name": "python"
    }
  },
  "cells": [
    {
      "cell_type": "markdown",
      "metadata": {
        "id": "view-in-github",
        "colab_type": "text"
      },
      "source": [
        "<a href=\"https://colab.research.google.com/github/TiaErikaDev/ExerciciosPython/blob/main/05_Python_Importacao_Bibliotecas.ipynb\" target=\"_parent\"><img src=\"https://colab.research.google.com/assets/colab-badge.svg\" alt=\"Open In Colab\"/></a>"
      ]
    },
    {
      "cell_type": "markdown",
      "source": [
        "#**AULA 8** - Importação de Bibliotecas e definição de funções"
      ],
      "metadata": {
        "id": "-BQ0LVHymmtc"
      }
    },
    {
      "cell_type": "code",
      "execution_count": null,
      "metadata": {
        "id": "vrkgifIXmmPh"
      },
      "outputs": [],
      "source": [
        "from math import pi"
      ]
    },
    {
      "cell_type": "code",
      "source": [
        "pi"
      ],
      "metadata": {
        "colab": {
          "base_uri": "https://localhost:8080/"
        },
        "id": "tp1qx0Lant-s",
        "outputId": "4ae94d0f-14da-4854-8e64-97534d993ec4"
      },
      "execution_count": null,
      "outputs": [
        {
          "output_type": "execute_result",
          "data": {
            "text/plain": [
              "3.141592653589793"
            ]
          },
          "metadata": {},
          "execution_count": 2
        }
      ]
    },
    {
      "cell_type": "code",
      "source": [
        "import math"
      ],
      "metadata": {
        "id": "EXQJRT0Wn0ze"
      },
      "execution_count": null,
      "outputs": []
    },
    {
      "cell_type": "code",
      "source": [
        "import math as m"
      ],
      "metadata": {
        "id": "nvxOQ0nroPZs"
      },
      "execution_count": null,
      "outputs": []
    },
    {
      "cell_type": "code",
      "source": [
        "m.pi"
      ],
      "metadata": {
        "colab": {
          "base_uri": "https://localhost:8080/"
        },
        "id": "XGfDPUt0oR65",
        "outputId": "be9661a6-98f7-4af7-ba58-2007da026cf2"
      },
      "execution_count": null,
      "outputs": [
        {
          "output_type": "execute_result",
          "data": {
            "text/plain": [
              "3.141592653589793"
            ]
          },
          "metadata": {},
          "execution_count": 5
        }
      ]
    },
    {
      "cell_type": "code",
      "source": [
        "import random"
      ],
      "metadata": {
        "id": "lups4NEYpOfq"
      },
      "execution_count": null,
      "outputs": []
    },
    {
      "cell_type": "code",
      "source": [
        "random.sample(range(1,11), 5)"
      ],
      "metadata": {
        "colab": {
          "base_uri": "https://localhost:8080/"
        },
        "id": "R23t56T_pQhp",
        "outputId": "04cd548f-5373-456d-e81b-ff5da75b8ab4"
      },
      "execution_count": null,
      "outputs": [
        {
          "output_type": "execute_result",
          "data": {
            "text/plain": [
              "[2, 7, 10, 4, 1]"
            ]
          },
          "metadata": {},
          "execution_count": 16
        }
      ]
    },
    {
      "cell_type": "markdown",
      "source": [
        "#Defunição de funções"
      ],
      "metadata": {
        "id": "PCvZzVXRqEuF"
      }
    },
    {
      "cell_type": "markdown",
      "source": [
        "Uma função é um recurso para não precisarmos repetir o mesmo código desnecessariamente. Assim como as funções da matemática, sua tarefa é transformar um input, uma entrada, uma coleção de variáveis, em uma saída, um output."
      ],
      "metadata": {
        "id": "8kwk-cynqWJG"
      }
    },
    {
      "cell_type": "code",
      "source": [
        "def Mensagem(nome, tamanho):\n",
        "  print('=' * tamanho)\n",
        "  print('-' * tamanho)\n",
        "  print(f'Seja Bem-vindo, {nome}!')\n",
        "  print('-' * tamanho)\n",
        "  print('=' * tamanho)\n"
      ],
      "metadata": {
        "id": "c8RfEwqiqJGc"
      },
      "execution_count": null,
      "outputs": []
    },
    {
      "cell_type": "code",
      "source": [
        "Mensagem('Mayara', 30)"
      ],
      "metadata": {
        "colab": {
          "base_uri": "https://localhost:8080/"
        },
        "id": "ClakEwVTrLse",
        "outputId": "a40885db-4d1b-495d-df15-0930e4a78bad"
      },
      "execution_count": null,
      "outputs": [
        {
          "output_type": "stream",
          "name": "stdout",
          "text": [
            "==============================\n",
            "------------------------------\n",
            "Seja Bem-vindo, Mayara!\n",
            "------------------------------\n",
            "==============================\n"
          ]
        }
      ]
    },
    {
      "cell_type": "markdown",
      "source": [
        "#Exercício proposto"
      ],
      "metadata": {
        "id": "kCxrE3znv8iO"
      }
    },
    {
      "cell_type": "code",
      "source": [
        "from random import randint\n",
        "\n",
        "dados = randint(1, 6), randint(1, 6), randint(1, 6), randint(1, 6), randint(1, 6)\n",
        "s = sum(dados)\n",
        "\n",
        "print('Dados sorteados:', dados)\n",
        "print('Soma dos dados:', s)\n",
        "\n",
        "if s > 20: \n",
        "  print('ganhei!')\n",
        "\n",
        "\n",
        "  "
      ],
      "metadata": {
        "colab": {
          "base_uri": "https://localhost:8080/"
        },
        "id": "f2B3PJeCBAqc",
        "outputId": "49db0938-f30d-49a0-d6dc-fcc9fcd480ad"
      },
      "execution_count": null,
      "outputs": [
        {
          "output_type": "stream",
          "name": "stdout",
          "text": [
            "Dados sorteados: (3, 5, 5, 3, 6)\n",
            "Soma dos dados: 22\n",
            "ganhei!\n"
          ]
        }
      ]
    }
  ]
}