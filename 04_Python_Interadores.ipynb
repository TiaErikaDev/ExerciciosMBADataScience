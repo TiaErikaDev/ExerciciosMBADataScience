{
  "cells": [
    {
      "cell_type": "markdown",
      "metadata": {
        "id": "view-in-github",
        "colab_type": "text"
      },
      "source": [
        "<a href=\"https://colab.research.google.com/github/TiaErikaDev/ExerciciosPython/blob/main/04_Python_Interadores.ipynb\" target=\"_parent\"><img src=\"https://colab.research.google.com/assets/colab-badge.svg\" alt=\"Open In Colab\"/></a>"
      ]
    },
    {
      "cell_type": "markdown",
      "metadata": {
        "id": "BR2DYKdKC79C"
      },
      "source": [
        "#**Aula 07** - Interadores FOR e WHILE"
      ]
    },
    {
      "cell_type": "markdown",
      "metadata": {
        "id": "kaAxdxYcDUfA"
      },
      "source": [
        "#Repetidor *FOR*"
      ]
    },
    {
      "cell_type": "code",
      "execution_count": null,
      "metadata": {
        "id": "lO8wBdRiC31A"
      },
      "outputs": [],
      "source": [
        "#Esquema geral\n",
        "for variante in lista_de_variações:\n",
        "  código_a_ser_repetido"
      ]
    },
    {
      "cell_type": "code",
      "execution_count": null,
      "metadata": {
        "id": "Fel0K3b1D0la"
      },
      "outputs": [],
      "source": [
        "#in \n",
        "frutas = ['maçã', 'pêra', 'uva', 'mexirica', 'banana', 'tomate', 'limão', 'abacate']\n",
        "\n",
        "for fruta in frutas:\n",
        "  nas = fruta.count('a')\n",
        "  print(f'na palavra {fruta}, a letra \"a\" ocorre exatamente {nas} vez')\n",
        "\n",
        "if nas > 1:\n",
        "  print(f'na palavra {fruta}, a letra \"a\" ocorre exatamente {nas} vezes')\n",
        "elif nas == 1 and nas == 0:\n",
        "  print(f'na palavra {fruta}, a letra \"a\" ocorre exatamente {nas} vez')\n"
      ]
    },
    {
      "cell_type": "code",
      "execution_count": null,
      "metadata": {
        "id": "zla-puZAIwp0"
      },
      "outputs": [],
      "source": [
        "lista = []\n",
        "for i in [1, 2, 3, 4, 5, 6]:\n",
        "  quadrado = i**2\n",
        "  lista.append(quadrado)"
      ]
    },
    {
      "cell_type": "code",
      "execution_count": null,
      "metadata": {
        "colab": {
          "base_uri": "https://localhost:8080/"
        },
        "id": "5Q-igPYGJRHQ",
        "outputId": "0c8a1008-223a-4175-da21-7a0534631af0"
      },
      "outputs": [
        {
          "data": {
            "text/plain": [
              "[1, 4, 9, 16, 25, 36]"
            ]
          },
          "execution_count": 17,
          "metadata": {},
          "output_type": "execute_result"
        }
      ],
      "source": [
        "lista"
      ]
    },
    {
      "cell_type": "code",
      "execution_count": null,
      "metadata": {
        "colab": {
          "base_uri": "https://localhost:8080/"
        },
        "id": "I5D1CtTEKfVn",
        "outputId": "25cf6356-e4d0-4f3a-8f43-3fca8080fb56"
      },
      "outputs": [
        {
          "name": "stdout",
          "output_type": "stream",
          "text": [
            "\n",
            "*\n",
            "**\n",
            "***\n",
            "****\n",
            "*****\n",
            "******\n",
            "*******\n",
            "********\n",
            "*********\n"
          ]
        }
      ],
      "source": [
        "for i in range(10):\n",
        "  print('*' * i)\n"
      ]
    },
    {
      "cell_type": "markdown",
      "metadata": {
        "id": "reKcnRFPKtqv"
      },
      "source": [
        "#Repetidor *WHILE*"
      ]
    },
    {
      "cell_type": "code",
      "execution_count": null,
      "metadata": {
        "id": "vnUmR5-6KyPi"
      },
      "outputs": [],
      "source": [
        ""
      ]
    },
    {
      "cell_type": "markdown",
      "metadata": {
        "id": "kZLybPNxQp7h"
      },
      "source": [
        "#EXERCÍCIO PROPOSTO"
      ]
    },
    {
      "cell_type": "code",
      "execution_count": null,
      "metadata": {
        "colab": {
          "base_uri": "https://localhost:8080/"
        },
        "id": "NiOYnemtodXq",
        "outputId": "f289bd32-8972-49bf-f473-43bc27c16585"
      },
      "outputs": [
        {
          "output_type": "stream",
          "name": "stdout",
          "text": [
            "Entre com um número inteiro de (0-10): 8\n",
            "8 * 0 = 0\n",
            "8 * 1 = 8\n",
            "8 * 2 = 16\n",
            "8 * 3 = 24\n",
            "8 * 4 = 32\n",
            "8 * 5 = 40\n",
            "8 * 6 = 48\n",
            "8 * 7 = 56\n",
            "8 * 8 = 64\n",
            "8 * 9 = 72\n",
            "8 * 10 = 80\n"
          ]
        }
      ],
      "source": [
        "numero = int(input('Entre com um número inteiro de (0-10): '))\n",
        "\n",
        "for i in range(11):\n",
        "    print(f'{numero} * {i} = {numero * i}')\n"
      ]
    },
    {
      "cell_type": "code",
      "execution_count": null,
      "metadata": {
        "colab": {
          "base_uri": "https://localhost:8080/"
        },
        "id": "uvlqPpOZ4oe0",
        "outputId": "9f07ac55-4345-4482-e1e6-f1feaf95c217"
      },
      "outputs": [
        {
          "output_type": "stream",
          "name": "stdout",
          "text": [
            "maçã\n",
            "banana\n",
            "limão\n",
            "kiwi\n",
            "tomate\n"
          ]
        }
      ],
      "source": [
        "frutas = ['maçã','banana', 'limão', 'kiwi', 'tomate', 'morango', 'abacate', 'abacaxi', 'mexirica', 'pera', 'uva']\n",
        "i = 0\n",
        "while True:\n",
        "  if len(frutas[i]) > 6:\n",
        "      break\n",
        "  print(frutas[i])\n",
        "  i += 1\n",
        "\n"
      ]
    },
    {
      "cell_type": "code",
      "source": [
        "frutas = ['banana', 'uva', 'maça']\n",
        "\n",
        "for i in range(len(frutas)):\n",
        "    print(f'Fruta número {i+1}:', frutas[i])\n",
        "\n",
        "print('*' * 30)\n",
        "\n",
        "for i, fruta in enumerate(frutas):\n",
        "    print(f'Fruta número {i+1}:', fruta)\n",
        "\n",
        "print('*' * 30)\n",
        "\n",
        "c = 0\n",
        "for fruta in frutas:\n",
        "    print(f'Fruta número {c+1}:', fruta)\n",
        "    c += 1"
      ],
      "metadata": {
        "id": "k772jQrRXxv7",
        "colab": {
          "base_uri": "https://localhost:8080/"
        },
        "outputId": "d33e253a-aa0d-4596-877a-d996ca9bc440"
      },
      "execution_count": null,
      "outputs": [
        {
          "output_type": "stream",
          "name": "stdout",
          "text": [
            "Fruta número 1: banana\n",
            "Fruta número 2: uva\n",
            "Fruta número 3: maça\n",
            "******************************\n",
            "Fruta número 1: banana\n",
            "Fruta número 2: uva\n",
            "Fruta número 3: maça\n",
            "******************************\n",
            "Fruta número 1: banana\n",
            "Fruta número 2: uva\n",
            "Fruta número 3: maça\n"
          ]
        }
      ]
    }
  ],
  "metadata": {
    "colab": {
      "name": "04. Python - Interadores",
      "provenance": [],
      "collapsed_sections": [],
      "authorship_tag": "ABX9TyPc73qusWpvFIcTedwcLZtq",
      "include_colab_link": true
    },
    "kernelspec": {
      "display_name": "Python 3",
      "name": "python3"
    },
    "language_info": {
      "name": "python"
    }
  },
  "nbformat": 4,
  "nbformat_minor": 0
}