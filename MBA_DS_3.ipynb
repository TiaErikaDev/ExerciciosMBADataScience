{
  "nbformat": 4,
  "nbformat_minor": 0,
  "metadata": {
    "colab": {
      "name": "MBA DS-3.ipynb",
      "provenance": [],
      "authorship_tag": "ABX9TyNSfKdIRl8fBRJnmzDATPUg",
      "include_colab_link": true
    },
    "kernelspec": {
      "name": "python3",
      "display_name": "Python 3"
    },
    "language_info": {
      "name": "python"
    }
  },
  "cells": [
    {
      "cell_type": "markdown",
      "metadata": {
        "id": "view-in-github",
        "colab_type": "text"
      },
      "source": [
        "<a href=\"https://colab.research.google.com/github/TiaErikaDev/ExerciciosMBADataScience/blob/main/MBA_DS_3.ipynb\" target=\"_parent\"><img src=\"https://colab.research.google.com/assets/colab-badge.svg\" alt=\"Open In Colab\"/></a>"
      ]
    },
    {
      "cell_type": "markdown",
      "source": [
        "# **Aula 3** - Lógia de programação\n"
      ],
      "metadata": {
        "id": "uGKryovvMWDf"
      }
    },
    {
      "cell_type": "code",
      "execution_count": null,
      "metadata": {
        "colab": {
          "base_uri": "https://localhost:8080/"
        },
        "id": "fvEDeMAsKA-h",
        "outputId": "4fb9a155-78f1-4426-ebab-98be36af9ed3"
      },
      "outputs": [
        {
          "output_type": "stream",
          "name": "stdout",
          "text": [
            "Olá Mundo!\n"
          ]
        }
      ],
      "source": [
        "print('Olá Mundo!')"
      ]
    },
    {
      "cell_type": "markdown",
      "source": [
        "# **Atividade**"
      ],
      "metadata": {
        "id": "EdHGj8h9S_hl"
      }
    },
    {
      "cell_type": "code",
      "source": [
        "# Perguntar o nome da pessoa\n",
        "nome = input('Qual o seu nome? ')\n",
        "q = float(input('Qual a distância da sua corrida? '))\n",
        "\n",
        "simples = 6 + 0.735*q\n",
        "premium = 10 + 0.65*q + 0.07*q**2\n",
        "entrega = 6 + 0.65*q - 0.04*q**2\n",
        "\n",
        "print('Bom-vindo, ', nome)\n",
        "print('O valor da corrida simples é de: ', round(simples, 2))\n",
        "print('O valor da corrida premium é de: ', round(premium, 2))\n",
        "print('O valor da entrega é de: ', round(entrega, 2))"
      ],
      "metadata": {
        "colab": {
          "base_uri": "https://localhost:8080/"
        },
        "id": "vWO2o91-S-lB",
        "outputId": "ebbddc46-f4c5-4267-b281-a8567fed0c31"
      },
      "execution_count": null,
      "outputs": [
        {
          "output_type": "stream",
          "name": "stdout",
          "text": [
            "Qual o seu nome? Mayara\n",
            "Qual a distância da sua corrida? 15.854\n",
            "Bom-vindo,  Mayara\n",
            "O valor da corrida simples é de:  17.65\n",
            "O valor da corrida premium é de:  37.9\n",
            "O valor da entrega é de:  6.25\n"
          ]
        }
      ]
    },
    {
      "cell_type": "markdown",
      "source": [
        "# **Exercício proposto**"
      ],
      "metadata": {
        "id": "gl8HEzyMZjbv"
      }
    },
    {
      "cell_type": "markdown",
      "source": [
        "Faça um programa que receba como entrada a área e o perímetro de uma residência. A partir de tais valores, calcule o custo para colocar piso no chão dessa casa e o custo para pintar as paredes dessa casa. Faça as suposições necessárias."
      ],
      "metadata": {
        "id": "SMiJXX2PZpqU"
      }
    },
    {
      "cell_type": "code",
      "source": [
        "A = float(input('área da sua residência: '))\n",
        "P = float(input('perímetro da sua residência: '))\n",
        "\n",
        "piso = 0.1 * A + A * 30\n",
        "pintura = A * 2.7 * 9.5\n",
        "\n",
        "print('O valor da instalação do piso é de: ', round(piso, 2))\n",
        "print('O valor da pintura da casa é de: ', round(pintura, 2))\n"
      ],
      "metadata": {
        "colab": {
          "base_uri": "https://localhost:8080/"
        },
        "id": "5fvRMxt_Zohl",
        "outputId": "cb8bc805-258d-4fad-c811-d0f09ce37ff6"
      },
      "execution_count": null,
      "outputs": [
        {
          "output_type": "stream",
          "name": "stdout",
          "text": [
            "área da sua residência: 90\n",
            "perímetro da sua residência: 38\n",
            "O valor da instalação do piso é de:  2709.0\n",
            "O valor da pintura da casa é de:  2308.5\n"
          ]
        }
      ]
    }
  ]
}