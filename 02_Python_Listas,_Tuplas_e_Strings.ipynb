{
  "nbformat": 4,
  "nbformat_minor": 0,
  "metadata": {
    "colab": {
      "name": "02. Python - Listas, Tuplas e Strings",
      "provenance": [],
      "collapsed_sections": [],
      "authorship_tag": "ABX9TyNlTqugh1NXFJb8I806uikW",
      "include_colab_link": true
    },
    "kernelspec": {
      "name": "python3",
      "display_name": "Python 3"
    },
    "language_info": {
      "name": "python"
    }
  },
  "cells": [
    {
      "cell_type": "markdown",
      "metadata": {
        "id": "view-in-github",
        "colab_type": "text"
      },
      "source": [
        "<a href=\"https://colab.research.google.com/github/TiaErikaDev/ExerciciosPython/blob/main/02_Python_Listas%2C_Tuplas_e_Strings.ipynb\" target=\"_parent\"><img src=\"https://colab.research.google.com/assets/colab-badge.svg\" alt=\"Open In Colab\"/></a>"
      ]
    },
    {
      "cell_type": "markdown",
      "source": [
        "# **AULA 4** - LISTAS E TUPLAS"
      ],
      "metadata": {
        "id": "fvbIw29O1ZEc"
      }
    },
    {
      "cell_type": "code",
      "execution_count": null,
      "metadata": {
        "colab": {
          "base_uri": "https://localhost:8080/",
          "height": 35
        },
        "id": "GLrnpMTD1SEa",
        "outputId": "d3056ff2-8129-4acc-c555-916f83e2b8ce"
      },
      "outputs": [
        {
          "output_type": "execute_result",
          "data": {
            "text/plain": [
              "'F'"
            ],
            "application/vnd.google.colaboratory.intrinsic+json": {
              "type": "string"
            }
          },
          "metadata": {},
          "execution_count": 23
        }
      ],
      "source": [
        "lista = ['A', 35, ['Alice', 'Jhony', [35, [0, 1, 'F'], 29], 1987], ['Python', 'para', 'DS']]\n",
        "lista[2][2][1][2]\n"
      ]
    },
    {
      "cell_type": "markdown",
      "source": [
        "# **AULA 5** - Strings"
      ],
      "metadata": {
        "id": "5eu1gKNSosbo"
      }
    },
    {
      "cell_type": "code",
      "source": [
        "a = 'ricardo@flai.com.br'\n",
        "b = 'alice@hotmail.com'\n",
        "c = 'joao@gmail.com'\n",
        "d = 'maria@gmail.com'\n",
        "\n",
        "lista1 = (a[:7], b[:5], c[:4], d[:5])\n",
        "lista2 = (a[8:12], b[6:13], c[5:10], d[6:10])\n",
        "lista1"
      ],
      "metadata": {
        "id": "RzhbIVSUo0su",
        "colab": {
          "base_uri": "https://localhost:8080/"
        },
        "outputId": "6400953e-07f8-492b-fa97-17499b01f5d9"
      },
      "execution_count": null,
      "outputs": [
        {
          "output_type": "execute_result",
          "data": {
            "text/plain": [
              "('ricardo', 'alice', 'joao', 'maria')"
            ]
          },
          "metadata": {},
          "execution_count": 3
        }
      ]
    },
    {
      "cell_type": "code",
      "source": [
        "a.split('@')"
      ],
      "metadata": {
        "colab": {
          "base_uri": "https://localhost:8080/"
        },
        "id": "V-4cckJX3GWf",
        "outputId": "aebfb909-581a-4c2e-f4a7-0e3acf7436a8"
      },
      "execution_count": null,
      "outputs": [
        {
          "output_type": "execute_result",
          "data": {
            "text/plain": [
              "['ricardo', 'flai.com.br']"
            ]
          },
          "metadata": {},
          "execution_count": 64
        }
      ]
    },
    {
      "cell_type": "code",
      "source": [
        "b.split('@')"
      ],
      "metadata": {
        "colab": {
          "base_uri": "https://localhost:8080/"
        },
        "id": "6_7uSfX23m6M",
        "outputId": "0e7b2e81-a677-485c-fbfc-0de5a313678b"
      },
      "execution_count": null,
      "outputs": [
        {
          "output_type": "execute_result",
          "data": {
            "text/plain": [
              "['alice', 'hotmail.com']"
            ]
          },
          "metadata": {},
          "execution_count": 65
        }
      ]
    },
    {
      "cell_type": "code",
      "source": [
        "c.split('@')"
      ],
      "metadata": {
        "colab": {
          "base_uri": "https://localhost:8080/"
        },
        "id": "Ia0bT4v83pDo",
        "outputId": "6c4ccf8f-31b0-4f1c-bd82-6057a8ccc16d"
      },
      "execution_count": null,
      "outputs": [
        {
          "output_type": "execute_result",
          "data": {
            "text/plain": [
              "['joao', 'gmail.com']"
            ]
          },
          "metadata": {},
          "execution_count": 66
        }
      ]
    },
    {
      "cell_type": "code",
      "source": [
        "d.split('@')"
      ],
      "metadata": {
        "colab": {
          "base_uri": "https://localhost:8080/"
        },
        "id": "Z29sRxdX3q1p",
        "outputId": "cb74eaca-ea09-4b89-9e05-d6cbdb12badb"
      },
      "execution_count": null,
      "outputs": [
        {
          "output_type": "execute_result",
          "data": {
            "text/plain": [
              "['maria', 'gmail.com']"
            ]
          },
          "metadata": {},
          "execution_count": 67
        }
      ]
    },
    {
      "cell_type": "code",
      "source": [
        "b.count(b)"
      ],
      "metadata": {
        "colab": {
          "base_uri": "https://localhost:8080/"
        },
        "id": "tbAlCdeP4xuf",
        "outputId": "9ea0288f-0755-4c15-d253-f5c92599331a"
      },
      "execution_count": null,
      "outputs": [
        {
          "output_type": "execute_result",
          "data": {
            "text/plain": [
              "1"
            ]
          },
          "metadata": {},
          "execution_count": 81
        }
      ]
    }
  ]
}