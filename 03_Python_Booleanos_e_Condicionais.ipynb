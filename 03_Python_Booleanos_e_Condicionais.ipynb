{
  "nbformat": 4,
  "nbformat_minor": 0,
  "metadata": {
    "colab": {
      "name": "03. Python - Booleanos e Condicionais",
      "provenance": [],
      "collapsed_sections": [],
      "authorship_tag": "ABX9TyPfJKwSSglyim5/lN3DFWg7",
      "include_colab_link": true
    },
    "kernelspec": {
      "name": "python3",
      "display_name": "Python 3"
    },
    "language_info": {
      "name": "python"
    }
  },
  "cells": [
    {
      "cell_type": "markdown",
      "metadata": {
        "id": "view-in-github",
        "colab_type": "text"
      },
      "source": [
        "<a href=\"https://colab.research.google.com/github/TiaErikaDev/ExerciciosPython/blob/main/03_Python_Booleanos_e_Condicionais.ipynb\" target=\"_parent\"><img src=\"https://colab.research.google.com/assets/colab-badge.svg\" alt=\"Open In Colab\"/></a>"
      ]
    },
    {
      "cell_type": "markdown",
      "source": [
        "#**Aula 6** - Booleanos, Comparadores e Condicionais"
      ],
      "metadata": {
        "id": "jrDxTCNuA-EU"
      }
    },
    {
      "cell_type": "markdown",
      "source": [
        "**Booleano**"
      ],
      "metadata": {
        "id": "jSmdiV7TCvwT"
      }
    },
    {
      "cell_type": "code",
      "execution_count": null,
      "metadata": {
        "colab": {
          "base_uri": "https://localhost:8080/"
        },
        "id": "KsT_PkynA4C4",
        "outputId": "0fb20cc9-5100-4ca2-cfdf-735da378d2f8"
      },
      "outputs": [
        {
          "output_type": "execute_result",
          "data": {
            "text/plain": [
              "bool"
            ]
          },
          "metadata": {},
          "execution_count": 1
        }
      ],
      "source": [
        "type(True)\n"
      ]
    },
    {
      "cell_type": "code",
      "source": [
        "a = 12\n",
        "b = 24"
      ],
      "metadata": {
        "id": "KMm0RK7jBuDf"
      },
      "execution_count": null,
      "outputs": []
    },
    {
      "cell_type": "code",
      "source": [
        "# É igual?\n",
        "a == b"
      ],
      "metadata": {
        "colab": {
          "base_uri": "https://localhost:8080/"
        },
        "id": "iaM0XeL3BuFm",
        "outputId": "6929d5c6-057b-4e53-fa8a-0fc726dabf25"
      },
      "execution_count": null,
      "outputs": [
        {
          "output_type": "execute_result",
          "data": {
            "text/plain": [
              "False"
            ]
          },
          "metadata": {},
          "execution_count": 3
        }
      ]
    },
    {
      "cell_type": "code",
      "source": [
        "# É diferente?\n",
        "a != b"
      ],
      "metadata": {
        "colab": {
          "base_uri": "https://localhost:8080/"
        },
        "id": "kuAA8vGdBuIX",
        "outputId": "d708ac43-8b68-4b41-e93a-6c53f710086f"
      },
      "execution_count": null,
      "outputs": [
        {
          "output_type": "execute_result",
          "data": {
            "text/plain": [
              "True"
            ]
          },
          "metadata": {},
          "execution_count": 4
        }
      ]
    },
    {
      "cell_type": "code",
      "source": [
        "a > b"
      ],
      "metadata": {
        "colab": {
          "base_uri": "https://localhost:8080/"
        },
        "id": "cTomUYzXCQNa",
        "outputId": "b88961f8-6df5-417f-cbf9-1b2dff4d4031"
      },
      "execution_count": null,
      "outputs": [
        {
          "output_type": "execute_result",
          "data": {
            "text/plain": [
              "False"
            ]
          },
          "metadata": {},
          "execution_count": 5
        }
      ]
    },
    {
      "cell_type": "code",
      "source": [
        "a <= b"
      ],
      "metadata": {
        "colab": {
          "base_uri": "https://localhost:8080/"
        },
        "id": "ws58sYXgCQPo",
        "outputId": "752e3d18-4779-4144-8ba5-5f46b8510132"
      },
      "execution_count": null,
      "outputs": [
        {
          "output_type": "execute_result",
          "data": {
            "text/plain": [
              "True"
            ]
          },
          "metadata": {},
          "execution_count": 6
        }
      ]
    },
    {
      "cell_type": "code",
      "source": [
        "type(23) == int"
      ],
      "metadata": {
        "colab": {
          "base_uri": "https://localhost:8080/"
        },
        "id": "e6UuX4AYCfr6",
        "outputId": "1213368a-1aa9-47a3-fa30-7d011c7726b1"
      },
      "execution_count": null,
      "outputs": [
        {
          "output_type": "execute_result",
          "data": {
            "text/plain": [
              "True"
            ]
          },
          "metadata": {},
          "execution_count": 7
        }
      ]
    },
    {
      "cell_type": "code",
      "source": [
        "'Mayara' == 'May'"
      ],
      "metadata": {
        "colab": {
          "base_uri": "https://localhost:8080/"
        },
        "id": "8OYRlzPrCfuT",
        "outputId": "d1826080-1208-4818-821e-062b62892dcc"
      },
      "execution_count": null,
      "outputs": [
        {
          "output_type": "execute_result",
          "data": {
            "text/plain": [
              "False"
            ]
          },
          "metadata": {},
          "execution_count": 9
        }
      ]
    },
    {
      "cell_type": "code",
      "source": [
        "True and False "
      ],
      "metadata": {
        "colab": {
          "base_uri": "https://localhost:8080/"
        },
        "id": "9VuYurmVDGPZ",
        "outputId": "4bbf5226-1121-4dfe-ceb7-4e2f2553ce01"
      },
      "execution_count": null,
      "outputs": [
        {
          "output_type": "execute_result",
          "data": {
            "text/plain": [
              "False"
            ]
          },
          "metadata": {},
          "execution_count": 12
        }
      ]
    },
    {
      "cell_type": "code",
      "source": [
        "True or False"
      ],
      "metadata": {
        "colab": {
          "base_uri": "https://localhost:8080/"
        },
        "id": "S56Ewc2dCfzR",
        "outputId": "bf54eefb-ceb8-49ee-b9e1-ff90249d1551"
      },
      "execution_count": null,
      "outputs": [
        {
          "output_type": "execute_result",
          "data": {
            "text/plain": [
              "True"
            ]
          },
          "metadata": {},
          "execution_count": 10
        }
      ]
    },
    {
      "cell_type": "code",
      "source": [
        "#any / all\n",
        "any([True, True, False])"
      ],
      "metadata": {
        "colab": {
          "base_uri": "https://localhost:8080/"
        },
        "id": "a1dYaLPSDyGB",
        "outputId": "0700e567-6448-4032-add0-71d212973e20"
      },
      "execution_count": null,
      "outputs": [
        {
          "output_type": "execute_result",
          "data": {
            "text/plain": [
              "True"
            ]
          },
          "metadata": {},
          "execution_count": 17
        }
      ]
    },
    {
      "cell_type": "code",
      "source": [
        "all([True, True, True])"
      ],
      "metadata": {
        "colab": {
          "base_uri": "https://localhost:8080/"
        },
        "id": "Srp7xQHdEDXg",
        "outputId": "bbc78a44-0846-4176-f4c6-20075b9d2ff4"
      },
      "execution_count": null,
      "outputs": [
        {
          "output_type": "execute_result",
          "data": {
            "text/plain": [
              "True"
            ]
          },
          "metadata": {},
          "execution_count": 15
        }
      ]
    },
    {
      "cell_type": "markdown",
      "source": [
        "#**Condicionais** IF ELIF ELSE"
      ],
      "metadata": {
        "id": "WzlxNOBQEQyB"
      }
    },
    {
      "cell_type": "markdown",
      "source": [
        "IF = SE \n",
        "\n",
        "ELSE = ENTÃO"
      ],
      "metadata": {
        "id": "gJLcG-NSEj-B"
      }
    },
    {
      "cell_type": "code",
      "source": [
        "if condição:\n",
        "  executa aqui\n",
        "else:\n",
        "  executa aqui"
      ],
      "metadata": {
        "id": "FCRTPy9ZEV6k"
      },
      "execution_count": null,
      "outputs": []
    },
    {
      "cell_type": "code",
      "source": [
        "if condição:\n",
        "  executa aqui\n",
        "elif: outra_condição:\n",
        "  executa aqui\n",
        "else:\n",
        "  executa aqui"
      ],
      "metadata": {
        "id": "hqXFLn0QFBRx"
      },
      "execution_count": null,
      "outputs": []
    },
    {
      "cell_type": "markdown",
      "source": [
        "#Exercício proposto"
      ],
      "metadata": {
        "id": "B4yvki_6zKLD"
      }
    },
    {
      "cell_type": "code",
      "source": [
        "idade = int(input('Qual a sua idade? '))\n",
        "renda = int(input('Qual a sua renda? '))\n",
        "emprego = int(input('Está empregado? '))\n",
        "\n",
        "if emprego > 0:\n",
        "  Score = 490*(idade/75 + renda/10000)\n",
        "  print('Seu score é:', round((Score), 2))\n",
        "\n",
        "if emprego == 0:\n",
        "  Score = 455*(idade/75 + renda/10000)\n",
        "  print('Seu score é:', round((Score), 2))\n",
        "\n",
        "if float(Score) <= 500:\n",
        "  print('Cliente de alto risco')\n",
        "\n",
        "if float(Score) >= 501 and float(Score) <= 800:\n",
        "  print('Cliente de Médio risco')\n",
        "\n",
        "if float(Score) >= 801 and float(Score) <= 1000:\n",
        "    print('Cliente de Baixo risco')\n"
      ],
      "metadata": {
        "colab": {
          "base_uri": "https://localhost:8080/"
        },
        "id": "B2xGPX2vzN35",
        "outputId": "307053d8-4e8a-40e7-8283-a139d00377de"
      },
      "execution_count": null,
      "outputs": [
        {
          "output_type": "stream",
          "name": "stdout",
          "text": [
            "Qual a sua idade? 45\n",
            "Qual a sua renda? 5000\n",
            "Está empregado? 1\n",
            "Seu score é: 539.0\n",
            "Cliente de Médio risco\n"
          ]
        }
      ]
    }
  ]
}